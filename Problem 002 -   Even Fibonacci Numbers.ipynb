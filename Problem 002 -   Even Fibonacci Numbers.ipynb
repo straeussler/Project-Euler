{
 "cells": [
  {
   "cell_type": "code",
   "execution_count": 23,
   "metadata": {},
   "outputs": [
    {
     "name": "stdout",
     "output_type": "stream",
     "text": [
      "[1, 1, 2, 3, 5, 8, 13, 21, 34, 55, 89, 144, 233, 377, 610, 987, 1597, 2584, 4181, 6765, 10946, 17711, 28657, 46368, 75025, 121393, 196418, 317811, 514229, 832040, 1346269, 2178309, 3524578]\n",
      "4613732\n"
     ]
    }
   ],
   "source": [
    "fib = [1,1]\n",
    "n = 2\n",
    "for element in fib:\n",
    "    if fib[n-1] + fib[n-2] <= 4000000:\n",
    "        fib.append(0)\n",
    "        fib[n] = fib[n-1] + fib[n-2]\n",
    "        n = n + 1\n",
    "print(fib)\n",
    "\n",
    "s = 0\n",
    "n=0\n",
    "for element in fib:\n",
    "    if fib[n] % 2 == 0:\n",
    "        s = s + fib[n]\n",
    "    n = n+1\n",
    "print(s)\n",
    "\n",
    "\n",
    " "
   ]
  },
  {
   "cell_type": "code",
   "execution_count": 24,
   "metadata": {},
   "outputs": [
    {
     "name": "stdout",
     "output_type": "stream",
     "text": [
      "4613732\n"
     ]
    }
   ],
   "source": [
    "fib = [1,1]\n",
    "n, s = 2, 0\n",
    "for element in fib:\n",
    "    if fib[n-1] + fib[n-2] <= 4000000:\n",
    "        fib.append(0)\n",
    "        fib[n] = fib[n-1] + fib[n-2]\n",
    "        if fib[n] % 2 == 0:\n",
    "            s = s + fib[n]\n",
    "        n = n + 1\n",
    "print(s)\n",
    "\n"
   ]
  },
  {
   "cell_type": "code",
   "execution_count": null,
   "metadata": {},
   "outputs": [],
   "source": []
  }
 ],
 "metadata": {
  "kernelspec": {
   "display_name": "Python 3",
   "language": "python",
   "name": "python3"
  },
  "language_info": {
   "codemirror_mode": {
    "name": "ipython",
    "version": 3
   },
   "file_extension": ".py",
   "mimetype": "text/x-python",
   "name": "python",
   "nbconvert_exporter": "python",
   "pygments_lexer": "ipython3",
   "version": "3.7.4"
  }
 },
 "nbformat": 4,
 "nbformat_minor": 2
}
