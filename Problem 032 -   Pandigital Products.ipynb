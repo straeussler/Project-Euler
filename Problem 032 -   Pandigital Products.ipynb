{
 "cells": [
  {
   "cell_type": "code",
   "execution_count": 58,
   "metadata": {},
   "outputs": [
    {
     "name": "stdout",
     "output_type": "stream",
     "text": [
      "45228\n"
     ]
    }
   ],
   "source": [
    "list = []\n",
    "list2 = []\n",
    "total = 0\n",
    "for n in range(1000,10000):\n",
    "    for i in range(1,100):\n",
    "        string = \"\"\n",
    "        if n % i == 0:\n",
    "            string = (str(i) + str(n//i) + str(n))\n",
    "            if len(string) == 9:\n",
    "                if len(string) == len(set(string)):\n",
    "                    if \"0\" not in string:\n",
    "                        if str(n) not in list:\n",
    "                            list.append(str(n))\n",
    "                            list2.append(string)\n",
    "                            total += n\n",
    "print(total)"
   ]
  }
 ],
 "metadata": {
  "kernelspec": {
   "display_name": "Python 3",
   "language": "python",
   "name": "python3"
  },
  "language_info": {
   "codemirror_mode": {
    "name": "ipython",
    "version": 3
   },
   "file_extension": ".py",
   "mimetype": "text/x-python",
   "name": "python",
   "nbconvert_exporter": "python",
   "pygments_lexer": "ipython3",
   "version": "3.7.4"
  }
 },
 "nbformat": 4,
 "nbformat_minor": 2
}
