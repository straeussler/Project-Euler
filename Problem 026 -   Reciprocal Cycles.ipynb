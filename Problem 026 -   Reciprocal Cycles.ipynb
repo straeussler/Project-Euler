{
 "cells": [
  {
   "cell_type": "code",
   "execution_count": null,
   "metadata": {
    "scrolled": false
   },
   "outputs": [],
   "source": [
    "for d in range(3,1000,2):\n",
    "    frac = 1/d\n",
    "    frac = str(frac)\n",
    "    frac = frac[2:]\n",
    "    print(\"1 divided by: \",d)\n",
    "    print(\"decimals: \",frac)\n",
    "    print(len(frac))"
   ]
  },
  {
   "cell_type": "code",
   "execution_count": null,
   "metadata": {},
   "outputs": [],
   "source": []
  },
  {
   "cell_type": "code",
   "execution_count": null,
   "metadata": {},
   "outputs": [],
   "source": [
    "n = str(123456789)\n",
    "n[8]"
   ]
  },
  {
   "cell_type": "code",
   "execution_count": null,
   "metadata": {},
   "outputs": [],
   "source": [
    "print(\"give the divident\")\n",
    "divident=int(input())\n",
    "print(\"give the divisor\")\n",
    "divisor=int(input())\n",
    "result=1\n",
    "Re=[ ]\n",
    "for n in range (51):\n",
    "\tif divident>=divisor:\n",
    "\t\tresult=divident//divisor\n",
    "\t\tRe.append(result)\n",
    "\t\tdivident=divident-(result*divisor)\n",
    "\telif divident<divisor:\n",
    "\t\t\n",
    "\t\t\n",
    "\t\tif \",\" not in Re:\n",
    "\t\t\tRe.append(0)\n",
    "\t\t\tRe.append(\",\")\n",
    "\t\telif \",\" in Re:\n",
    "\t\t\tRe.append(0)\n",
    "\tdivident=divident*10\n",
    "\t\t\t\n",
    "\t\n",
    "print(Re)"
   ]
  },
  {
   "cell_type": "code",
   "execution_count": null,
   "metadata": {},
   "outputs": [],
   "source": [
    "len([0, ',', 1, 4, 2, 8, 5, 7, 1, 4, 2, 8, 5, 7, 1, 4, 2, 8, 5, 7, 1, 4, 2, 8, 5, 7, 1, 4, 2, 8, 5, 7, 1, 4, 2, 8, 5, 7, 1, 4, 2, 8, 5, 7, 1, 4, 2, 8, 5, 7, 1])"
   ]
  },
  {
   "cell_type": "code",
   "execution_count": null,
   "metadata": {
    "scrolled": true
   },
   "outputs": [],
   "source": []
  },
  {
   "cell_type": "code",
   "execution_count": null,
   "metadata": {},
   "outputs": [],
   "source": []
  },
  {
   "cell_type": "code",
   "execution_count": null,
   "metadata": {},
   "outputs": [],
   "source": []
  }
 ],
 "metadata": {
  "kernelspec": {
   "display_name": "Python 3",
   "language": "python",
   "name": "python3"
  },
  "language_info": {
   "codemirror_mode": {
    "name": "ipython",
    "version": 3
   },
   "file_extension": ".py",
   "mimetype": "text/x-python",
   "name": "python",
   "nbconvert_exporter": "python",
   "pygments_lexer": "ipython3",
   "version": "3.7.4"
  }
 },
 "nbformat": 4,
 "nbformat_minor": 2
}
