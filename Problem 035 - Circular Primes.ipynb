{
 "cells": [
  {
   "cell_type": "code",
   "execution_count": 58,
   "metadata": {},
   "outputs": [],
   "source": [
    "from sympy import isprime\n",
    "import time\n",
    "\n",
    "def rotate(n, x):\n",
    "    return str(n)[x:] + str(n)[:x]\n",
    "\n",
    "#if n is prime, generate permutations of str(n)\n",
    "#if all permutations are prime, counter += 1"
   ]
  },
  {
   "cell_type": "code",
   "execution_count": 62,
   "metadata": {
    "scrolled": true
   },
   "outputs": [
    {
     "name": "stdout",
     "output_type": "stream",
     "text": [
      "55\n",
      "time:  4.646397113800049\n"
     ]
    }
   ],
   "source": [
    "start = time.time()\n",
    "counter = 1 #to include 2\n",
    "for n in range(3,10**6,2):\n",
    "    if isprime(n):\n",
    "        for x in range(len(str(n))):\n",
    "            if isprime(int(rotate(n,x))):\n",
    "                flag = True\n",
    "            else:\n",
    "                flag = False\n",
    "                break\n",
    "        if flag == True:\n",
    "            counter += 1\n",
    "end = time.time()\n",
    "print(counter)\n",
    "print('time: ',end-start)"
   ]
  },
  {
   "cell_type": "code",
   "execution_count": null,
   "metadata": {},
   "outputs": [],
   "source": []
  }
 ],
 "metadata": {
  "kernelspec": {
   "display_name": "Python 3",
   "language": "python",
   "name": "python3"
  }
 },
 "nbformat": 4,
 "nbformat_minor": 2
}
