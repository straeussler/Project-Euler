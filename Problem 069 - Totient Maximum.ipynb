{
 "cells": [
  {
   "cell_type": "code",
   "execution_count": 2,
   "metadata": {},
   "outputs": [
    {
     "name": "stdout",
     "output_type": "stream",
     "text": [
      "0.00028014183044433594\n",
      "510510\n"
     ]
    }
   ],
   "source": [
    "# 2*3*5*7*11*13*17 = 510510\n",
    "import time\n",
    "from sympy import isprime\n",
    "\n",
    "start = time.time()\n",
    "\n",
    "prod = 1\n",
    "for p in range(2,100):\n",
    "    if isprime(p):\n",
    "        if prod * p <= 10**6:\n",
    "            prod *= p\n",
    "        else:\n",
    "            break\n",
    "\n",
    "end = time.time()\n",
    "print(end - start)\n",
    "\n",
    "print(prod)\n"
   ]
  },
  {
   "cell_type": "code",
   "execution_count": null,
   "metadata": {},
   "outputs": [],
   "source": [
    "#import math\n",
    "def allfactors(n):\n",
    "    # find prime factors of n(i) and store in primelist\n",
    "    primelist = []\n",
    "    while n % 2 == 0:\n",
    "        primelist.append(2)\n",
    "        n = n // 2\n",
    "    for i in range(3,int(math.sqrt(n))+1,2):\n",
    "        while n % i == 0:\n",
    "            primelist.append(i)\n",
    "            n = n // i\n",
    "    if n > 1:\n",
    "        primelist.append(n)\n",
    "    return(set(primelist))"
   ]
  },
  {
   "cell_type": "code",
   "execution_count": null,
   "metadata": {
    "scrolled": true
   },
   "outputs": [],
   "source": [
    "# number must be even: more divisors <=> smaller φ(n) <=> greater n/φ(n)\n",
    "maximum = 1\n",
    "for n in range(2,10**6,2):\n",
    "    primelist = allfactors(n)\n",
    "    #print(n, primelist)\n",
    "    n_over_phi = 1\n",
    "    for element in primelist:\n",
    "        n_over_phi *= 1/(1-(1/element))\n",
    "    #print(n_over_phi)\n",
    "        if n_over_phi > maximum:\n",
    "            maximum = n_over_phi\n",
    "            n_max = n\n",
    "print(n_max)\n",
    "\n",
    "\n"
   ]
  }
 ],
 "metadata": {
  "kernelspec": {
   "display_name": "Python 3",
   "language": "python",
   "name": "python3"
  },
  "language_info": {
   "codemirror_mode": {
    "name": "ipython",
    "version": 3
   },
   "file_extension": ".py",
   "mimetype": "text/x-python",
   "name": "python",
   "nbconvert_exporter": "python",
   "pygments_lexer": "ipython3",
   "version": "3.7.4"
  }
 },
 "nbformat": 4,
 "nbformat_minor": 2
}
