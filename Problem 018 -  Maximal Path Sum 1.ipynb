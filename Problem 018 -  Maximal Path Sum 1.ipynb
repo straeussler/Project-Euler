{
 "cells": [
  {
   "cell_type": "code",
   "execution_count": 3,
   "metadata": {},
   "outputs": [],
   "source": [
    "grid = [[75,0,0,0,0,0,0,0,0,0,0,0,0,0,0],[95,64,0,0,0,0,0,0,0,0,0,0,0,0,0],[17,47,82,0,0,0,0,0,0,0,0,0,0,0,0],[18,35,87,10,0,0,0,0,0,0,0,0,0,0,0],[20,4,82,47,65,0,0,0,0,0,0,0,0,0,0],[19,1,23,75,3,34,0,0,0,0,0,0,0,0,0],[88,2,77,73,7,63,67,0,0,0,0,0,0,0,0],[99,65,4,28,6,16,70,92,0,0,0,0,0,0,0],[41,41,26,56,83,40,80,70,33,0,0,0,0,0,0],[41,48,72,33,47,32,37,16,94,29,0,0,0,0,0],[53,71,44,65,25,43,91,52,97,51,14,0,0,0,0],[70,11,33,28,77,73,17,78,39,68,17,57,0,0,0],[91,71,52,38,17,14,91,43,58,50,27,29,48,0,0],[63,66,4,68,89,53,67,30,73,16,69,87,40,31,0],[4,62,98,27,23,9,70,98,73,93,38,53,60,4,23]]"
   ]
  },
  {
   "cell_type": "code",
   "execution_count": null,
   "metadata": {},
   "outputs": [],
   "source": [
    "list = [[75],[95,64],[17,47,82],[18,35,87,10],[20,4,82,47,65],[19,1,23,75,3,34],[88,2,77,73,7,63,67],[99,65,4,28,6,16,70,92],[41,41,26,56,83,40,80,70,33],[41,48,72,33,47,32,37,16,94,29],[53,71,44,65,25,43,91,52,97,51,14],[70,11,33,28,77,73,17,78,39,68,17,57],[91,71,52,38,17,14,91,43,58,50,27,29,48],[63,66,4,68,89,53,67,30,73,16,69,87,40,31],[4,62,98,27,23,9,70,98,73,93,38,53,60,4,23]"
   ]
  },
  {
   "cell_type": "code",
   "execution_count": 4,
   "metadata": {},
   "outputs": [
    {
     "name": "stdout",
     "output_type": "stream",
     "text": [
      "1074\n"
     ]
    }
   ],
   "source": [
    "# start from second row from the bottom\n",
    "n= 13\n",
    "i = 0\n",
    "diff = 0\n",
    "while n >= 0:\n",
    "    for i in range(n + 1\n",
    "        # if element in n is 0, jump to next n \n",
    "        if grid[n][i] == 0:\n",
    "            n -= 1\n",
    "        # compare two adjacent values, add the greater one\n",
    "        diff = grid[n+1][i] - grid[n+1][i+1]\n",
    "        if diff >= 0:\n",
    "            grid[n][i] += grid[n+1][i]\n",
    "        else:\n",
    "            grid[n][i] += grid[n+1][i+1]\n",
    "    n -= 1\n",
    "print(grid[0][0])"
   ]
  },
  {
   "cell_type": "code",
   "execution_count": null,
   "metadata": {},
   "outputs": [],
   "source": []
  }
 ],
 "metadata": {
  "kernelspec": {
   "display_name": "Python 3",
   "language": "python",
   "name": "python3"
  },
  "language_info": {
   "codemirror_mode": {
    "name": "ipython",
    "version": 3
   },
   "file_extension": ".py",
   "mimetype": "text/x-python",
   "name": "python",
   "nbconvert_exporter": "python",
   "pygments_lexer": "ipython3",
   "version": "3.7.4"
  }
 },
 "nbformat": 4,
 "nbformat_minor": 2
}
