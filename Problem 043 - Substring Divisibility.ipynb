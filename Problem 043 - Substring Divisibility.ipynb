{
 "cells": [
  {
   "cell_type": "code",
   "execution_count": 2,
   "metadata": {},
   "outputs": [
    {
     "name": "stdout",
     "output_type": "stream",
     "text": [
      "16695334890\n"
     ]
    }
   ],
   "source": [
    "from itertools import permutations\n",
    "total = 0\n",
    "for perm in permutations('0123456789'):\n",
    "    string = ''.join(perm)\n",
    "    if (int(string[1:4]) % 2 == 0 and int(string[2:5]) % 3 == 0 and int(string[3:6]) % 5 == 0 and int(string[4:7]) % 7 == 0 and int(string[5:8]) % 11 == 0 and int(string[6:9]) % 13 == 0 and int(string[7:10])% 17 == 0):\n",
    "        total += int(string)\n",
    "print(total)"
   ]
  },
  {
   "cell_type": "code",
   "execution_count": null,
   "metadata": {},
   "outputs": [],
   "source": []
  }
 ],
 "metadata": {
  "kernelspec": {
   "display_name": "Python 3",
   "language": "python",
   "name": "python3"
  },
  "language_info": {
   "codemirror_mode": {
    "name": "ipython",
    "version": 3
   },
   "file_extension": ".py",
   "mimetype": "text/x-python",
   "name": "python",
   "nbconvert_exporter": "python",
   "pygments_lexer": "ipython3",
   "version": "3.7.4"
  }
 },
 "nbformat": 4,
 "nbformat_minor": 2
}
