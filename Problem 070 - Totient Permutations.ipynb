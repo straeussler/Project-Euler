{
 "cells": [
  {
   "cell_type": "code",
   "execution_count": 9,
   "metadata": {},
   "outputs": [],
   "source": [
    "def primefactors(n):\n",
    "    # find odd numbers with only unique prime factors of and store prime factors in primelist\n",
    "    primelist = []\n",
    "    if n % 2 == 0:\n",
    "            return(False)\n",
    "    for i in range(3,int(n**0.5)+1,2):\n",
    "        while n % i == 0:\n",
    "            if n / i*i == 0:\n",
    "                return(False)\n",
    "            else:\n",
    "                primelist.append(i)\n",
    "                n = n // i\n",
    "        if n > 1:\n",
    "                    primelist.append(n)\n",
    "    return(primelist)"
   ]
  },
  {
   "cell_type": "code",
   "execution_count": 10,
   "metadata": {
    "scrolled": true
   },
   "outputs": [
    {
     "name": "stdout",
     "output_type": "stream",
     "text": [
      "79180.0\n"
     ]
    }
   ],
   "source": [
    "n = 87109\n",
    "#for n in range(3,10**7,2)\n",
    "if primefactors(n) == True:\n",
    "    \n",
    "    \n",
    "\n",
    "phi = n\n",
    "for element in primelist:\n",
    "    phi *= (1-(1/element))\n",
    "print(phi)"
   ]
  },
  {
   "cell_type": "code",
   "execution_count": 8,
   "metadata": {
    "scrolled": true
   },
   "outputs": [
    {
     "data": {
      "text/plain": [
       "1.1001389239706996"
      ]
     },
     "execution_count": 8,
     "metadata": {},
     "output_type": "execute_result"
    }
   ],
   "source": [
    "n/phi"
   ]
  },
  {
   "cell_type": "code",
   "execution_count": 11,
   "metadata": {},
   "outputs": [
    {
     "data": {
      "text/plain": [
       "[1, 2, 3, 4]"
      ]
     },
     "execution_count": 11,
     "metadata": {},
     "output_type": "execute_result"
    }
   ],
   "source": []
  },
  {
   "cell_type": "code",
   "execution_count": null,
   "metadata": {},
   "outputs": [],
   "source": []
  }
 ],
 "metadata": {
  "kernelspec": {
   "display_name": "Python 3",
   "language": "python",
   "name": "python3"
  },
  "language_info": {
   "codemirror_mode": {
    "name": "ipython",
    "version": 3
   },
   "file_extension": ".py",
   "mimetype": "text/x-python",
   "name": "python",
   "nbconvert_exporter": "python",
   "pygments_lexer": "ipython3",
   "version": "3.7.4"
  }
 },
 "nbformat": 4,
 "nbformat_minor": 2
}
