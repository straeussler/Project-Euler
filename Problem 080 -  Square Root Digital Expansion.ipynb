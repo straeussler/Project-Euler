{
 "cells": [
  {
   "cell_type": "code",
   "execution_count": 64,
   "metadata": {
    "scrolled": false
   },
   "outputs": [
    {
     "name": "stdout",
     "output_type": "stream",
     "text": [
      "45\n",
      "45345\n"
     ]
    }
   ],
   "source": [
    "from sympy import sqrt\n",
    "\n",
    "sq_sum = 0\n",
    "squares = '2345678910'\n",
    "for square in squares:\n",
    "    sq_sum += int(square)\n",
    "print(sq_sum)\n",
    "total = 0\n",
    "\n",
    "for n in range(1,111):\n",
    "    a = str(sqrt(n).evalf(110)).split('.')\n",
    "    a = str(a[0]) + str(a[1]) \n",
    "    num_total = 0\n",
    "    for i in a[:100]:\n",
    "        num_total += int(i)\n",
    "    total += num_total\n",
    "print(total-sq_sum)\n"
   ]
  },
  {
   "cell_type": "code",
   "execution_count": 47,
   "metadata": {},
   "outputs": [
    {
     "name": "stdout",
     "output_type": "stream",
     "text": [
      "475\n"
     ]
    }
   ],
   "source": [
    "str(sqrt(2).evalf(100)).split('.')[1]\n",
    "num_total = 0\n",
    "for i in a:\n",
    "    num_total += int(i)\n",
    "print(num_total)"
   ]
  },
  {
   "cell_type": "code",
   "execution_count": 62,
   "metadata": {},
   "outputs": [
    {
     "data": {
      "text/plain": [
       "69"
      ]
     },
     "execution_count": 62,
     "metadata": {},
     "output_type": "execute_result"
    }
   ],
   "source": [
    "4+9+1+6+2+5+3+6+4+9+6+4+8+1+1+0+0"
   ]
  },
  {
   "cell_type": "code",
   "execution_count": null,
   "metadata": {},
   "outputs": [],
   "source": [
    "4+91  6, 25, 36, 49, 64, 81, 100"
   ]
  },
  {
   "cell_type": "code",
   "execution_count": null,
   "metadata": {},
   "outputs": [],
   "source": []
  }
 ],
 "metadata": {
  "kernelspec": {
   "display_name": "Python 3",
   "language": "python",
   "name": "python3"
  },
  "language_info": {
   "codemirror_mode": {
    "name": "ipython",
    "version": 3
   },
   "file_extension": ".py",
   "mimetype": "text/x-python",
   "name": "python",
   "nbconvert_exporter": "python",
   "pygments_lexer": "ipython3",
   "version": "3.7.4"
  }
 },
 "nbformat": 4,
 "nbformat_minor": 2
}
