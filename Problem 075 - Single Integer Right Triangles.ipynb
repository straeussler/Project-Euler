{
 "cells": [
  {
   "cell_type": "code",
   "execution_count": 7,
   "metadata": {},
   "outputs": [
    {
     "data": {
      "text/plain": [
       "2.4"
      ]
     },
     "execution_count": 7,
     "metadata": {},
     "output_type": "execute_result"
    }
   ],
   "source": [
    "12/5"
   ]
  },
  {
   "cell_type": "code",
   "execution_count": 8,
   "metadata": {},
   "outputs": [
    {
     "data": {
      "text/plain": [
       "2.4"
      ]
     },
     "execution_count": 8,
     "metadata": {},
     "output_type": "execute_result"
    }
   ],
   "source": [
    "24/10"
   ]
  },
  {
   "cell_type": "code",
   "execution_count": 9,
   "metadata": {},
   "outputs": [
    {
     "data": {
      "text/plain": [
       "2.3076923076923075"
      ]
     },
     "execution_count": 9,
     "metadata": {},
     "output_type": "execute_result"
    }
   ],
   "source": [
    "30/13"
   ]
  },
  {
   "cell_type": "code",
   "execution_count": 11,
   "metadata": {},
   "outputs": [
    {
     "data": {
      "text/plain": [
       "2.4"
      ]
     },
     "execution_count": 11,
     "metadata": {},
     "output_type": "execute_result"
    }
   ],
   "source": [
    "36/15"
   ]
  },
  {
   "cell_type": "code",
   "execution_count": 12,
   "metadata": {},
   "outputs": [
    {
     "data": {
      "text/plain": [
       "2.3529411764705883"
      ]
     },
     "execution_count": 12,
     "metadata": {},
     "output_type": "execute_result"
    }
   ],
   "source": [
    "40/17"
   ]
  },
  {
   "cell_type": "code",
   "execution_count": 13,
   "metadata": {
    "scrolled": true
   },
   "outputs": [
    {
     "data": {
      "text/plain": [
       "2.4"
      ]
     },
     "execution_count": 13,
     "metadata": {},
     "output_type": "execute_result"
    }
   ],
   "source": [
    "48/20"
   ]
  },
  {
   "cell_type": "code",
   "execution_count": 14,
   "metadata": {},
   "outputs": [
    {
     "data": {
      "text/plain": [
       "2.3076923076923075"
      ]
     },
     "execution_count": 14,
     "metadata": {},
     "output_type": "execute_result"
    }
   ],
   "source": [
    "120/52"
   ]
  },
  {
   "cell_type": "code",
   "execution_count": 15,
   "metadata": {},
   "outputs": [
    {
     "data": {
      "text/plain": [
       "2.3529411764705883"
      ]
     },
     "execution_count": 15,
     "metadata": {},
     "output_type": "execute_result"
    }
   ],
   "source": [
    "120/51"
   ]
  },
  {
   "cell_type": "code",
   "execution_count": 16,
   "metadata": {},
   "outputs": [
    {
     "data": {
      "text/plain": [
       "2.4"
      ]
     },
     "execution_count": 16,
     "metadata": {},
     "output_type": "execute_result"
    }
   ],
   "source": [
    "120/50"
   ]
  },
  {
   "cell_type": "code",
   "execution_count": 32,
   "metadata": {
    "scrolled": true
   },
   "outputs": [
    {
     "name": "stdout",
     "output_type": "stream",
     "text": [
      "p =  12 a:  3 b:  4 c:  5\n",
      "p =  24 a:  6 b:  8 c:  10\n",
      "p =  30 a:  5 b:  12 c:  13\n",
      "p =  36 a:  9 b:  12 c:  15\n",
      "p =  40 a:  8 b:  15 c:  17\n",
      "p =  48 a:  12 b:  16 c:  20\n",
      "p =  56 a:  7 b:  24 c:  25\n",
      "p =  60 a:  15 b:  20 c:  25\n",
      "p =  60 a:  10 b:  24 c:  26\n",
      "p =  70 a:  20 b:  21 c:  29\n",
      "p =  72 a:  18 b:  24 c:  30\n",
      "p =  80 a:  16 b:  30 c:  34\n",
      "p =  84 a:  21 b:  28 c:  35\n",
      "p =  84 a:  12 b:  35 c:  37\n",
      "p =  90 a:  15 b:  36 c:  39\n",
      "p =  90 a:  9 b:  40 c:  41\n",
      "p =  96 a:  24 b:  32 c:  40\n",
      "p =  108 a:  27 b:  36 c:  45\n",
      "p =  112 a:  14 b:  48 c:  50\n",
      "p =  120 a:  30 b:  40 c:  50\n",
      "p =  120 a:  24 b:  45 c:  51\n",
      "p =  120 a:  20 b:  48 c:  52\n"
     ]
    }
   ],
   "source": [
    "for p in range(12,121):\n",
    "    c = 0\n",
    "    for c in range(1,int((p//2)+1)):\n",
    "        for b in range(1,c+1):\n",
    "            for a in range(1,b+1):\n",
    "                if c**2 == a**2 + b**2 and a+b+c == p:\n",
    "                    print('p = ',p,'a: ',a,'b: ',b,'c: ',c)\n",
    "                \n",
    "        \n",
    "    "
   ]
  },
  {
   "cell_type": "code",
   "execution_count": null,
   "metadata": {},
   "outputs": [],
   "source": []
  }
 ],
 "metadata": {
  "kernelspec": {
   "display_name": "Python 3",
   "language": "python",
   "name": "python3"
  },
  "language_info": {
   "codemirror_mode": {
    "name": "ipython",
    "version": 3
   },
   "file_extension": ".py",
   "mimetype": "text/x-python",
   "name": "python",
   "nbconvert_exporter": "python",
   "pygments_lexer": "ipython3",
   "version": "3.7.4"
  }
 },
 "nbformat": 4,
 "nbformat_minor": 2
}
