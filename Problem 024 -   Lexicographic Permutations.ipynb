{
 "cells": [
  {
   "cell_type": "code",
   "execution_count": 23,
   "metadata": {},
   "outputs": [
    {
     "name": "stdout",
     "output_type": "stream",
     "text": [
      "2783915460\n",
      "time:  0.21546196937561035\n"
     ]
    }
   ],
   "source": [
    "###1.1.20###\n",
    "import time\n",
    "\n",
    "start = time.time()\n",
    "\n",
    "from itertools import permutations\n",
    "c = 0\n",
    "string = '0123456789'\n",
    "for perm in permutations(string):\n",
    "    c += 1\n",
    "    if c == 10**6:\n",
    "        print(''.join(perm))\n",
    "        break\n",
    "        \n",
    "end = time.time()\n",
    "print('time: ',end-start)"
   ]
  },
  {
   "cell_type": "code",
   "execution_count": 7,
   "metadata": {},
   "outputs": [],
   "source": [
    "################\n",
    "# define function for number of permutations for n (total items) and r (items taken)\n",
    "import math\n",
    "\n",
    "def P(n,r):\n",
    "    f = math.factorial\n",
    "    return f(n) * f(n-r)"
   ]
  },
  {
   "cell_type": "code",
   "execution_count": 11,
   "metadata": {},
   "outputs": [
    {
     "data": {
      "text/plain": [
       "3628800"
      ]
     },
     "execution_count": 11,
     "metadata": {},
     "output_type": "execute_result"
    }
   ],
   "source": [
    "P(10,10)"
   ]
  },
  {
   "cell_type": "code",
   "execution_count": 7,
   "metadata": {},
   "outputs": [
    {
     "data": {
      "text/plain": [
       "1000"
      ]
     },
     "execution_count": 7,
     "metadata": {},
     "output_type": "execute_result"
    }
   ],
   "source": []
  },
  {
   "cell_type": "code",
   "execution_count": null,
   "metadata": {},
   "outputs": [],
   "source": []
  }
 ],
 "metadata": {
  "kernelspec": {
   "display_name": "Python 3",
   "language": "python",
   "name": "python3"
  },
  "language_info": {
   "codemirror_mode": {
    "name": "ipython",
    "version": 3
   },
   "file_extension": ".py",
   "mimetype": "text/x-python",
   "name": "python",
   "nbconvert_exporter": "python",
   "pygments_lexer": "ipython3",
   "version": "3.7.4"
  }
 },
 "nbformat": 4,
 "nbformat_minor": 2
}
