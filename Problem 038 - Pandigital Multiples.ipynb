{
 "cells": [
  {
   "cell_type": "code",
   "execution_count": 15,
   "metadata": {},
   "outputs": [
    {
     "name": "stdout",
     "output_type": "stream",
     "text": [
      "932718654\n"
     ]
    }
   ],
   "source": [
    "max_pan = 0\n",
    "for n in range(10000):\n",
    "    a = ''\n",
    "    a += str(n) + str(2*n)\n",
    "    f = 3\n",
    "    while len(a) < 9:\n",
    "        a += str(f*n)\n",
    "        f += 1\n",
    "    if sorted(a) == ['1','2','3','4','5','6','7','8','9']:\n",
    "        if int(a) > max_pan:\n",
    "            max_pan = int(a)\n",
    "print(max_pan)\n",
    "    "
   ]
  },
  {
   "cell_type": "code",
   "execution_count": null,
   "metadata": {},
   "outputs": [],
   "source": []
  }
 ],
 "metadata": {
  "kernelspec": {
   "display_name": "Python 3",
   "language": "python",
   "name": "python3"
  },
  "language_info": {
   "codemirror_mode": {
    "name": "ipython",
    "version": 3
   },
   "file_extension": ".py",
   "mimetype": "text/x-python",
   "name": "python",
   "nbconvert_exporter": "python",
   "pygments_lexer": "ipython3",
   "version": "3.7.4"
  }
 },
 "nbformat": 4,
 "nbformat_minor": 2
}
