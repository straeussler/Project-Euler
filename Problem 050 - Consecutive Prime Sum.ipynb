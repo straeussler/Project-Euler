{
 "cells": [
  {
   "cell_type": "code",
   "execution_count": 103,
   "metadata": {},
   "outputs": [],
   "source": [
    "from sympy import isprime\n",
    "list = []\n",
    "i = 2\n",
    "while i < 500000:\n",
    "    if isprime(i):\n",
    "        list.append(i)\n",
    "    i += 1"
   ]
  },
  {
   "cell_type": "code",
   "execution_count": 104,
   "metadata": {},
   "outputs": [
    {
     "name": "stdout",
     "output_type": "stream",
     "text": [
      "997651\n"
     ]
    }
   ],
   "source": [
    "a = 0\n",
    "sum = 0\n",
    "while sum + list[a] < 1000000:\n",
    "    sum += list[a]\n",
    "    a += 1\n",
    "b = 0\n",
    "while not isprime(sum):\n",
    "    sum -= list[b]\n",
    "    b += 1\n",
    "print(sum)\n",
    "    "
   ]
  },
  {
   "cell_type": "code",
   "execution_count": null,
   "metadata": {},
   "outputs": [],
   "source": []
  }
 ],
 "metadata": {
  "kernelspec": {
   "display_name": "Python 3",
   "language": "python",
   "name": "python3"
  },
  "language_info": {
   "codemirror_mode": {
    "name": "ipython",
    "version": 3
   },
   "file_extension": ".py",
   "mimetype": "text/x-python",
   "name": "python",
   "nbconvert_exporter": "python",
   "pygments_lexer": "ipython3",
   "version": "3.7.4"
  }
 },
 "nbformat": 4,
 "nbformat_minor": 2
}
