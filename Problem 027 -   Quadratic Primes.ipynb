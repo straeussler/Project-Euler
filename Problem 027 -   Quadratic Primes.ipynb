{
 "cells": [
  {
   "cell_type": "code",
   "execution_count": 15,
   "metadata": {
    "scrolled": false
   },
   "outputs": [
    {
     "name": "stdout",
     "output_type": "stream",
     "text": [
      "longest_series:  71\n",
      "a_max =  -61\n",
      "b_max =  971\n",
      "product =  -59231\n"
     ]
    }
   ],
   "source": [
    "from sympy import isprime\n",
    "\n",
    "def f(n):\n",
    "    f = n**2 + a*n + b\n",
    "    return(f)\n",
    "    \n",
    "    \n",
    "longest_series = 0\n",
    "a_max = 0\n",
    "b_max = 0\n",
    "for a in range(-999,1000):\n",
    "    for b in range(-1000,1001):\n",
    "        n = 0\n",
    "        while isprime(f(n)):\n",
    "            n += 1\n",
    "        if n > longest_series:\n",
    "            longest_series = n\n",
    "            a_max = a\n",
    "            b_max = b\n",
    "print('longest_series: ',longest_series)\n",
    "print('a_max = ',a_max)\n",
    "print('b_max = ',b_max)\n",
    "print('product = ',a_max*b_max)"
   ]
  },
  {
   "cell_type": "code",
   "execution_count": 11,
   "metadata": {},
   "outputs": [
    {
     "data": {
      "text/plain": [
       "-59231"
      ]
     },
     "execution_count": 11,
     "metadata": {},
     "output_type": "execute_result"
    }
   ],
   "source": []
  },
  {
   "cell_type": "code",
   "execution_count": 5,
   "metadata": {},
   "outputs": [
    {
     "name": "stdout",
     "output_type": "stream",
     "text": [
      "True\n",
      "True\n",
      "True\n",
      "True\n",
      "True\n",
      "False\n",
      "True\n",
      "True\n",
      "True\n",
      "True\n"
     ]
    }
   ],
   "source": [
    "\n"
   ]
  },
  {
   "cell_type": "code",
   "execution_count": null,
   "metadata": {},
   "outputs": [],
   "source": []
  }
 ],
 "metadata": {
  "kernelspec": {
   "display_name": "Python 3",
   "language": "python",
   "name": "python3"
  },
  "language_info": {
   "codemirror_mode": {
    "name": "ipython",
    "version": 3
   },
   "file_extension": ".py",
   "mimetype": "text/x-python",
   "name": "python",
   "nbconvert_exporter": "python",
   "pygments_lexer": "ipython3",
   "version": "3.7.4"
  }
 },
 "nbformat": 4,
 "nbformat_minor": 2
}
