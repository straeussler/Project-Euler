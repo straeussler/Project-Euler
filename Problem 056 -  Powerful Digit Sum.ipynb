{
 "cells": [
  {
   "cell_type": "code",
   "execution_count": 2,
   "metadata": {},
   "outputs": [
    {
     "name": "stdout",
     "output_type": "stream",
     "text": [
      "972\n"
     ]
    }
   ],
   "source": [
    "max_sum = 0\n",
    "for a in range(100):\n",
    "    for b in range(100):\n",
    "        digits = str(a**b)\n",
    "        digit_sum = 0\n",
    "        for digit in digits:\n",
    "            digit_sum += int(digit)\n",
    "        if digit_sum > max_sum:\n",
    "            max_sum = digit_sum\n",
    "print(max_sum)\n",
    "        "
   ]
  },
  {
   "cell_type": "code",
   "execution_count": null,
   "metadata": {},
   "outputs": [],
   "source": []
  }
 ],
 "metadata": {
  "kernelspec": {
   "display_name": "Python 3",
   "language": "python",
   "name": "python3"
  },
  "language_info": {
   "codemirror_mode": {
    "name": "ipython",
    "version": 3
   },
   "file_extension": ".py",
   "mimetype": "text/x-python",
   "name": "python",
   "nbconvert_exporter": "python",
   "pygments_lexer": "ipython3",
   "version": "3.7.4"
  }
 },
 "nbformat": 4,
 "nbformat_minor": 2
}
