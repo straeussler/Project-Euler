{
 "cells": [
  {
   "cell_type": "code",
   "execution_count": 1,
   "metadata": {},
   "outputs": [],
   "source": [
    "grid = [[8,2,22,97,38,15,0,40,0,75,4,5,7,78,52,12,50,77,91,8],[49,49,99,40,17,81,18,57,60,87,17,40,98,43,69,48,4,56,62,0],[81,49,31,73,55,79,14,29,93,71,40,67,53,88,30,3,49,13,36,65],[52,70,95,23,4,60,11,42,69,24,68,56,1,32,56,71,37,2,36,91],[22,31,16,71,51,67,63,89,41,92,36,54,22,40,40,28,66,33,13,80],[24,47,32,60,99,3,45,2,44,75,33,53,78,36,84,20,35,17,12,50],[32,98,81,28,64,23,67,10,26,38,40,67,59,54,70,66,18,38,64,70],[67,26,20,68,2,62,12,20,95,63,94,39,63,8,40,91,66,49,94,21],[24,55,58,5,66,73,99,26,97,17,78,78,96,83,14,88,34,89,63,72],[21,36,23,9,75,0,76,44,20,45,35,14,0,61,33,97,34,31,33,95],[78,17,53,28,22,75,31,67,15,94,3,80,4,62,16,14,9,53,56,92],[16,39,5,42,96,35,31,47,55,58,88,24,0,17,54,24,36,29,85,57],[86,56,0,48,35,71,89,7,5,44,44,37,44,60,21,58,51,54,17,58],[19,80,81,68,5,94,47,69,28,73,92,13,86,52,17,77,4,89,55,40],[4,52,8,83,97,35,99,16,7,97,57,32,16,26,26,79,33,27,98,66],[88,36,68,87,57,62,20,72,3,46,33,67,46,55,12,32,63,93,53,69],[4,42,16,73,38,25,39,11,24,94,72,18,8,46,29,32,40,62,76,36],[20,69,36,41,72,30,23,88,34,62,99,69,82,67,59,85,74,4,36,16],[20,73,35,29,78,31,90,1,74,31,49,71,48,86,81,16,23,57,5,54],[1,70,54,71,83,51,54,69,16,92,33,48,61,43,52,1,89,19,67,48]]"
   ]
  },
  {
   "cell_type": "code",
   "execution_count": 2,
   "metadata": {},
   "outputs": [
    {
     "name": "stdout",
     "output_type": "stream",
     "text": [
      "hor_prod:  48477312\n",
      "ver_prod:  51267216\n",
      "dia_prod1:  40304286\n",
      "dia_prod2:  70600674\n"
     ]
    }
   ],
   "source": [
    "# m = row number\n",
    "# n = col number\n",
    "\n",
    "# find horizontal maximum product\n",
    "hor_prod = 1\n",
    "for m in range(20): \n",
    "    for n in range(17):\n",
    "        a = 0\n",
    "        prod = 1\n",
    "        while a <= 3:\n",
    "            prod = prod * grid[m][n+a]\n",
    "            a += 1\n",
    "        if prod > hor_prod:\n",
    "            hor_prod = prod\n",
    "print(\"hor_prod: \",hor_prod)\n",
    "\n",
    "# find vertical maximum product\n",
    "ver_prod = 1\n",
    "for n in range(20):\n",
    "    for m in range(17):\n",
    "        a = 0\n",
    "        prod = 1\n",
    "        while a <= 3:\n",
    "            prod = prod * grid[m+a][n]\n",
    "            a += 1\n",
    "        if prod > ver_prod:\n",
    "            ver_prod = prod\n",
    "print(\"ver_prod: \",ver_prod)\n",
    "\n",
    "# find diagonal maximum product (top left > bottom right)\n",
    "dia_prod1 = 1\n",
    "for m in range(17):\n",
    "    for n in range(17):\n",
    "        a = 0\n",
    "        prod = 1\n",
    "        while a <= 3:\n",
    "            prod = prod * grid[m+a][n+a]\n",
    "            a += 1\n",
    "        if prod > dia_prod1:\n",
    "            dia_prod1 = prod\n",
    "print(\"dia_prod1: \",dia_prod1)\n",
    "\n",
    "# find diagonal maximum product (top right > bottom left)\n",
    "dia_prod2 = 1\n",
    "for m in range(17):\n",
    "    for n in range(3,20):\n",
    "        a = 0\n",
    "        prod = 1\n",
    "        while a <= 3:\n",
    "            prod = prod * grid[m+a][n-a]\n",
    "            a += 1\n",
    "        if prod > dia_prod2:\n",
    "            dia_prod2 = prod\n",
    "print(\"dia_prod2: \",dia_prod2)\n",
    "    \n",
    "    "
   ]
  },
  {
   "cell_type": "code",
   "execution_count": null,
   "metadata": {},
   "outputs": [],
   "source": [
    "max_prod = 1 \n",
    "for i in range(0,988):\n",
    "    a = 0\n",
    "    prod = 1\n",
    "    while a < 13:\n",
    "        prod = prod * list[i+a]\n",
    "        a += 1\n",
    "    if prod > max_prod:\n",
    "            max_prod = prod"
   ]
  },
  {
   "cell_type": "code",
   "execution_count": null,
   "metadata": {},
   "outputs": [],
   "source": []
  }
 ],
 "metadata": {
  "kernelspec": {
   "display_name": "Python 3",
   "language": "python",
   "name": "python3"
  },
  "language_info": {
   "codemirror_mode": {
    "name": "ipython",
    "version": 3
   },
   "file_extension": ".py",
   "mimetype": "text/x-python",
   "name": "python",
   "nbconvert_exporter": "python",
   "pygments_lexer": "ipython3",
   "version": "3.7.4"
  }
 },
 "nbformat": 4,
 "nbformat_minor": 2
}
