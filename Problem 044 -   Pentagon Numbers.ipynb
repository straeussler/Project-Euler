{
 "cells": [
  {
   "cell_type": "code",
   "execution_count": null,
   "metadata": {},
   "outputs": [],
   "source": [
    "#inverse function of P(n)\n",
    "def is_pentagonal(x):\n",
    "    if (((24*x+1)**0.5 +1)/6) % 1 == 0:\n",
    "        return(True)\n",
    "    else:\n",
    "        return(False)"
   ]
  },
  {
   "cell_type": "code",
   "execution_count": 53,
   "metadata": {},
   "outputs": [
    {
     "name": "stdout",
     "output_type": "stream",
     "text": [
      "n: 2167 i:  1020 D:  5482660 S:  8602840\n"
     ]
    }
   ],
   "source": [
    "n = 1\n",
    "\n",
    "# flag to check if the number is found or not\n",
    "flag = True\n",
    "\n",
    "while flag:\n",
    "    P_n = n*(3*n-1)/2\n",
    "    for i in range(n-1,0,-1):\n",
    "        P_i = i*(3*i-1)/2\n",
    "        D = P_n - P_i\n",
    "        S = P_n + P_i\n",
    "        if is_pentagonal(D) and is_pentagonal(S):\n",
    "            print('n:',n,'i: ',i,'D: ',int(D),'S: ',int(S))\n",
    "            flag = False\n",
    "    n += 1\n",
    "        "
   ]
  },
  {
   "cell_type": "code",
   "execution_count": 21,
   "metadata": {},
   "outputs": [
    {
     "data": {
      "text/plain": [
       "False"
      ]
     },
     "execution_count": 21,
     "metadata": {},
     "output_type": "execute_result"
    }
   ],
   "source": []
  },
  {
   "cell_type": "code",
   "execution_count": null,
   "metadata": {},
   "outputs": [],
   "source": []
  }
 ],
 "metadata": {
  "kernelspec": {
   "display_name": "Python 3",
   "language": "python",
   "name": "python3"
  },
  "language_info": {
   "codemirror_mode": {
    "name": "ipython",
    "version": 3
   },
   "file_extension": ".py",
   "mimetype": "text/x-python",
   "name": "python",
   "nbconvert_exporter": "python",
   "pygments_lexer": "ipython3",
   "version": "3.7.4"
  }
 },
 "nbformat": 4,
 "nbformat_minor": 2
}
