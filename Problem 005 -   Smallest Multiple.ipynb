{
 "cells": [
  {
   "cell_type": "code",
   "execution_count": null,
   "metadata": {},
   "outputs": [],
   "source": [
    "z=1\n",
    "for n in range (2,20):\n",
    "    z=z*n\n",
    "print(z)"
   ]
  },
  {
   "cell_type": "code",
   "execution_count": null,
   "metadata": {},
   "outputs": [],
   "source": []
  },
  {
   "cell_type": "code",
   "execution_count": 1,
   "metadata": {
    "scrolled": false
   },
   "outputs": [
    {
     "ename": "KeyboardInterrupt",
     "evalue": "",
     "output_type": "error",
     "traceback": [
      "\u001b[0;31m---------------------------------------------------------------------------\u001b[0m",
      "\u001b[0;31mKeyboardInterrupt\u001b[0m                         Traceback (most recent call last)",
      "\u001b[0;32m<ipython-input-1-63bc48a3e9c7>\u001b[0m in \u001b[0;36m<module>\u001b[0;34m\u001b[0m\n\u001b[1;32m     10\u001b[0m             \u001b[0mn\u001b[0m \u001b[0;34m=\u001b[0m \u001b[0mn\u001b[0m \u001b[0;34m/\u001b[0m \u001b[0mi\u001b[0m\u001b[0;34m\u001b[0m\u001b[0;34m\u001b[0m\u001b[0m\n\u001b[1;32m     11\u001b[0m             \u001b[0mi\u001b[0m \u001b[0;34m=\u001b[0m \u001b[0mi\u001b[0m \u001b[0;34m-\u001b[0m \u001b[0;36m1\u001b[0m\u001b[0;34m\u001b[0m\u001b[0;34m\u001b[0m\u001b[0m\n\u001b[0;32m---> 12\u001b[0;31m \u001b[0mis_prime\u001b[0m\u001b[0;34m(\u001b[0m\u001b[0;36m20\u001b[0m\u001b[0;34m)\u001b[0m\u001b[0;34m\u001b[0m\u001b[0;34m\u001b[0m\u001b[0m\n\u001b[0m\u001b[1;32m     13\u001b[0m \u001b[0mprint\u001b[0m\u001b[0;34m(\u001b[0m\u001b[0mlist\u001b[0m\u001b[0;34m)\u001b[0m\u001b[0;34m\u001b[0m\u001b[0;34m\u001b[0m\u001b[0m\n",
      "\u001b[0;32m<ipython-input-1-63bc48a3e9c7>\u001b[0m in \u001b[0;36mis_prime\u001b[0;34m(n)\u001b[0m\n\u001b[1;32m      6\u001b[0m     \u001b[0mi\u001b[0m \u001b[0;34m=\u001b[0m \u001b[0;36m20\u001b[0m\u001b[0;34m\u001b[0m\u001b[0;34m\u001b[0m\u001b[0m\n\u001b[1;32m      7\u001b[0m     \u001b[0;32mwhile\u001b[0m \u001b[0mi\u001b[0m \u001b[0;34m>\u001b[0m \u001b[0;36m1\u001b[0m\u001b[0;34m:\u001b[0m\u001b[0;34m\u001b[0m\u001b[0;34m\u001b[0m\u001b[0m\n\u001b[0;32m----> 8\u001b[0;31m         \u001b[0;32mif\u001b[0m \u001b[0mn\u001b[0m \u001b[0;34m%\u001b[0m \u001b[0mi\u001b[0m \u001b[0;34m==\u001b[0m \u001b[0;36m0\u001b[0m\u001b[0;34m:\u001b[0m\u001b[0;34m\u001b[0m\u001b[0;34m\u001b[0m\u001b[0m\n\u001b[0m\u001b[1;32m      9\u001b[0m             \u001b[0mlist\u001b[0m\u001b[0;34m.\u001b[0m\u001b[0mappend\u001b[0m\u001b[0;34m(\u001b[0m\u001b[0mi\u001b[0m\u001b[0;34m)\u001b[0m\u001b[0;34m\u001b[0m\u001b[0;34m\u001b[0m\u001b[0m\n\u001b[1;32m     10\u001b[0m             \u001b[0mn\u001b[0m \u001b[0;34m=\u001b[0m \u001b[0mn\u001b[0m \u001b[0;34m/\u001b[0m \u001b[0mi\u001b[0m\u001b[0;34m\u001b[0m\u001b[0;34m\u001b[0m\u001b[0m\n",
      "\u001b[0;31mKeyboardInterrupt\u001b[0m: "
     ]
    }
   ],
   "source": [
    "def is_prime(n):\n",
    "    list = []\n",
    "    while n % 2 == 0:\n",
    "        list.append(2)\n",
    "        n = n / 2\n",
    "    i = 20    \n",
    "    while i > 1:\n",
    "        if n % i == 0: \n",
    "            list.append(i)\n",
    "            n = n / i\n",
    "            i = i - 1\n",
    "is_prime(20)\n",
    "print(list)"
   ]
  },
  {
   "cell_type": "code",
   "execution_count": null,
   "metadata": {},
   "outputs": [],
   "source": [
    "a = [range(1,20)]\n",
    "a.append[0]=1\n",
    "z = 1\n",
    "t = 1\n",
    "for n in range (2,20):\n",
    "    for i in range (2,n):\n",
    "        t=a[n-2]\n",
    "        while n%t==0 and n/t!=1:\n",
    "            a[n-2]=n/t\n",
    "print(a)\n",
    "    "
   ]
  },
  {
   "cell_type": "code",
   "execution_count": null,
   "metadata": {},
   "outputs": [],
   "source": [
    "list = []\n",
    "y, z = 0, 0\n",
    "for i in range(20,0):\n",
    "    if i % 2 == 0:\n",
    "        list.append(2)\n",
    "        z = list.count(2)\n",
    "        if z > 0 and z > y:\n",
    "            y = z - y\n",
    "            \n",
    "print(z)\n",
    "print(y)\n",
    "print(list)\n",
    "        "
   ]
  },
  {
   "cell_type": "code",
   "execution_count": null,
   "metadata": {},
   "outputs": [],
   "source": [
    "list = []\n",
    "t = 0\n",
    "n = 20\n",
    "while n % 2 == 0:\n",
    "    t = t + 2\n",
    "    n = n / 2\n",
    "count = t / 2\n",
    "print(count)"
   ]
  },
  {
   "cell_type": "code",
   "execution_count": null,
   "metadata": {
    "scrolled": true
   },
   "outputs": [],
   "source": [
    "for n in range(2,21):\n",
    "    for i in range()\n",
    "    while n % 3 == 0:\n",
    "        t = t + 3\n",
    "        n = n / 3\n",
    "count = t / 3\n",
    "print (count)"
   ]
  },
  {
   "cell_type": "code",
   "execution_count": null,
   "metadata": {},
   "outputs": [],
   "source": [
    "list1 = [2,3,5,7,11,13,17,19]\n",
    "for i in range(0,8):\n",
    "    count = 0\n",
    "    y = 0\n",
    "    for n in range(1,21):\n",
    "        t = 0\n",
    "        x = 0\n",
    "        list2 = []\n",
    "        while n % list1[i] == 0:\n",
    "            t = t + list1[i]\n",
    "            n = n / list1[i]\n",
    "            list2.append(list1[i])\n",
    "            print(list2)\n",
    "        count = list2.count(list1[i])\n",
    "        if count > y:\n",
    "            y = count\n",
    "            print(y)\n",
    "            "
   ]
  },
  {
   "cell_type": "code",
   "execution_count": null,
   "metadata": {
    "scrolled": true
   },
   "outputs": [],
   "source": [
    "a=[]\n",
    "ref=[]\n",
    "for n in range (11):\n",
    "    a.insert(n,n)\n",
    "    ref=a\n",
    "    i=0\n",
    "    while i<=n:\n",
    "        \n",
    "        if ref[i]==1 or ref[i]==0:\n",
    "            i += 1 \n",
    "        elif n%ref[i]!=0 and ref[i]!=a[i] and i<n:\n",
    "            i += 1                        \n",
    "\n",
    "        elif n%ref[i]==0 and i!=n:\n",
    "            t=n/ref[i]\n",
    "            if t==ref[i]:\n",
    "                ref.insert(i,1)\n",
    "            elif t!=ref[i]:\n",
    "                \n",
    "                \n",
    "                \n",
    "                a.insert(i,t)\n",
    "            ref[i]=t\n",
    "            i=0\n",
    "        elif n/a[i]==1:\n",
    "            a[i]=n/ref[i]\n",
    "            i += 1\n",
    "        elif n%ref[i]==0 and a[i]==ref[i]:\n",
    "             \n",
    "            #a[i]=n\n",
    "            i += 1            \n",
    "print(a)"
   ]
  },
  {
   "cell_type": "code",
   "execution_count": 7,
   "metadata": {},
   "outputs": [
    {
     "name": "stdout",
     "output_type": "stream",
     "text": [
      "[6.0, 3.0, 1.0, 1.0, 1.0, 1.0, 1.0, 1.0]\n"
     ]
    }
   ],
   "source": [
    "import math \n",
    "list=[2,3,5,7,11,13,17,19]\n",
    "zahl=[1,1,1,1,1,1,1,1]\n",
    "b=0\n",
    "for i in range (8):\n",
    "    t=0\n",
    "    for n in range (21):\n",
    "        if n%list[i]==0 and n/list[i]!=1:            #n/list[i]>=t:\n",
    "            a=n/list[i]\n",
    "            while b!=1:\n",
    "                b=a/list[i]\n",
    "                a=b\n",
    "            t=t+list[i]\n",
    "    t = t / list[i]\n",
    "    zahl[i] = t\n",
    "print(zahl)\n",
    "        \n"
   ]
  },
  {
   "cell_type": "code",
   "execution_count": 5,
   "metadata": {},
   "outputs": [
    {
     "ename": "TypeError",
     "evalue": "int() argument must be a string, a bytes-like object or a number, not 'list'",
     "output_type": "error",
     "traceback": [
      "\u001b[0;31m---------------------------------------------------------------------------\u001b[0m",
      "\u001b[0;31mTypeError\u001b[0m                                 Traceback (most recent call last)",
      "\u001b[0;32m<ipython-input-5-50deafde2ea0>\u001b[0m in \u001b[0;36m<module>\u001b[0;34m\u001b[0m\n\u001b[0;32m----> 1\u001b[0;31m \u001b[0mprime_factors\u001b[0m \u001b[0;34m=\u001b[0m \u001b[0mint\u001b[0m\u001b[0;34m(\u001b[0m\u001b[0mlist\u001b[0m\u001b[0;34m)\u001b[0m\u001b[0;34m*\u001b[0m\u001b[0mint\u001b[0m\u001b[0;34m(\u001b[0m\u001b[0mzahl\u001b[0m\u001b[0;34m)\u001b[0m\u001b[0;34m\u001b[0m\u001b[0;34m\u001b[0m\u001b[0m\n\u001b[0m",
      "\u001b[0;31mTypeError\u001b[0m: int() argument must be a string, a bytes-like object or a number, not 'list'"
     ]
    }
   ],
   "source": []
  },
  {
   "cell_type": "code",
   "execution_count": null,
   "metadata": {},
   "outputs": [],
   "source": []
  }
 ],
 "metadata": {
  "kernelspec": {
   "display_name": "Python 3",
   "language": "python",
   "name": "python3"
  },
  "language_info": {
   "codemirror_mode": {
    "name": "ipython",
    "version": 3
   },
   "file_extension": ".py",
   "mimetype": "text/x-python",
   "name": "python",
   "nbconvert_exporter": "python",
   "pygments_lexer": "ipython3",
   "version": "3.7.4"
  }
 },
 "nbformat": 4,
 "nbformat_minor": 2
}
