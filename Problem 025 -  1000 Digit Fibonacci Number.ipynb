{
 "cells": [
  {
   "cell_type": "code",
   "execution_count": 20,
   "metadata": {
    "scrolled": false
   },
   "outputs": [
    {
     "name": "stdout",
     "output_type": "stream",
     "text": [
      "4782\n"
     ]
    }
   ],
   "source": [
    "fiblist = [1,1]\n",
    "n = 2\n",
    "while n > 0:\n",
    "    new_fib = fiblist[n-1] + fiblist[n-2]\n",
    "    fiblist.append(new_fib)\n",
    "    if len(str(new_fib)) == 1000:\n",
    "        break  \n",
    "    n += 1\n",
    "print(fiblist.index(max(fiblist))+1)"
   ]
  }
 ],
 "metadata": {
  "kernelspec": {
   "display_name": "Python 3",
   "language": "python",
   "name": "python3"
  },
  "language_info": {
   "codemirror_mode": {
    "name": "ipython",
    "version": 3
   },
   "file_extension": ".py",
   "mimetype": "text/x-python",
   "name": "python",
   "nbconvert_exporter": "python",
   "pygments_lexer": "ipython3",
   "version": "3.7.4"
  }
 },
 "nbformat": 4,
 "nbformat_minor": 2
}
