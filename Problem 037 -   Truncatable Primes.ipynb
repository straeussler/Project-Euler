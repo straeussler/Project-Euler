{
 "cells": [
  {
   "cell_type": "code",
   "execution_count": 6,
   "metadata": {},
   "outputs": [
    {
     "name": "stdout",
     "output_type": "stream",
     "text": [
      "748317 11\n",
      "[23, 37, 53, 73, 313, 317, 373, 797, 3137, 3797, 739397]\n",
      "3.1945412158966064\n"
     ]
    }
   ],
   "source": [
    "from sympy import isprime\n",
    "import time\n",
    "start = time.time()\n",
    "c = 0\n",
    "trunc_sum = 0\n",
    "list = []\n",
    "n = 11\n",
    "while c < 11:\n",
    "    if isprime(n):\n",
    "        left_str = ''\n",
    "        right_str = ''\n",
    "        nstr = str(n)\n",
    "        flag = True\n",
    "        for i in range(len(nstr)-1):\n",
    "            if isprime(int(left_str + nstr[i])) and isprime(int(nstr[-(i+1)] + right_str)):\n",
    "                left_str += nstr[i]\n",
    "                right_str = nstr[-(i+1)] + right_str\n",
    "            else:\n",
    "                flag = False\n",
    "                break\n",
    "        if flag == True:\n",
    "            c += 1\n",
    "            trunc_sum += n\n",
    "            list.append(n)\n",
    "    n += 1\n",
    "print(trunc_sum,c)\n",
    "print(list)\n",
    "print(time.time()-start)"
   ]
  },
  {
   "cell_type": "code",
   "execution_count": null,
   "metadata": {
    "scrolled": true
   },
   "outputs": [],
   "source": [
    "c = 0\n",
    "n = 3797\n",
    "total = 0\n",
    "while c <= 11:\n",
    "    string = str(n)\n",
    "    if isprime(int(string[0])) and isprime(int(string[len(string)-1])):\n",
    "        if isprime(n):\n",
    "            for i in range(1,len(string)):\n",
    "                if isprime(int(string[0:len(string)-i])):\n",
    "                    if isprime(int(string[i-1:len(string)-1])):\n",
    "                        print(int(string[0:len(string)-i]))\n",
    "                    #print((int(string[i-1:len(string)-1])))\n",
    "                        c += 1\n",
    "                        total += n\n",
    "            print(n)               \n",
    "    n += 2\n",
    "print(total)\n",
    "                                                                   \n",
    "                                        \n",
    "                "
   ]
  },
  {
   "cell_type": "code",
   "execution_count": null,
   "metadata": {},
   "outputs": [],
   "source": [
    "def is_prime(n):\n",
    "    if n % 2 == 0:\n",
    "        return(False)\n",
    "    else:\n",
    "        for i in range(3,int(n**0.5)+1,2):\n",
    "            if n % i == 0:\n",
    "                return(False)\n",
    "            else:\n",
    "                return(True)"
   ]
  },
  {
   "cell_type": "code",
   "execution_count": null,
   "metadata": {},
   "outputs": [],
   "source": [
    "isprime(int('      3'))"
   ]
  },
  {
   "cell_type": "code",
   "execution_count": null,
   "metadata": {},
   "outputs": [],
   "source": [
    "from sympy import isprime\n",
    "isprime(797)"
   ]
  },
  {
   "cell_type": "code",
   "execution_count": null,
   "metadata": {},
   "outputs": [],
   "source": [
    "while flag == True for i in range(len(nstr)-1):"
   ]
  },
  {
   "cell_type": "code",
   "execution_count": null,
   "metadata": {},
   "outputs": [],
   "source": []
  }
 ],
 "metadata": {
  "kernelspec": {
   "display_name": "Python 3",
   "language": "python",
   "name": "python3"
  },
  "language_info": {
   "codemirror_mode": {
    "name": "ipython",
    "version": 3
   },
   "file_extension": ".py",
   "mimetype": "text/x-python",
   "name": "python",
   "nbconvert_exporter": "python",
   "pygments_lexer": "ipython3",
   "version": "3.7.4"
  }
 },
 "nbformat": 4,
 "nbformat_minor": 2
}
