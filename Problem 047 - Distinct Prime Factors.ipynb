{
 "cells": [
  {
   "cell_type": "code",
   "execution_count": null,
   "metadata": {},
   "outputs": [],
   "source": [
    "# Rewrite: include condition for 4 primefactors in allfactors(n), then work with boolean values and unique function(?)"
   ]
  },
  {
   "cell_type": "code",
   "execution_count": null,
   "metadata": {},
   "outputs": [],
   "source": [
    "def allfactors(n):\n",
    "    # find prime factors of n and store in primelist\n",
    "    primelist = []\n",
    "    while n % 2 == 0:\n",
    "        primelist.append(2)\n",
    "        n = n // 2\n",
    "    for i in range(3,int(n**0.5)+1,2):\n",
    "        exp = 1\n",
    "        while n % i == 0:\n",
    "            primelist.append(i)\n",
    "            n = n // i\n",
    "    if n > 1:\n",
    "        primelist.append(n)\n",
    "    \n",
    "    # format primelist\n",
    "    a = 0 \n",
    "    str = '{}**{}'\n",
    "    for elements in primelist:\n",
    "        exp = primelist.count(primelist[a])\n",
    "        count = exp\n",
    "        while count > 1:\n",
    "            primelist.remove(primelist[a])\n",
    "            count -= 1\n",
    "        primelist[a] = str.format(primelist[a],exp)\n",
    "        a += 1\n",
    "    \n",
    "    return(primelist)"
   ]
  },
  {
   "cell_type": "code",
   "execution_count": null,
   "metadata": {
    "scrolled": true
   },
   "outputs": [],
   "source": [
    "# condition for consecutive numbers\n",
    "import time\n",
    "start = time.time()\n",
    "\n",
    "for n in range (646,4391634):\n",
    "    primelist_1 = allfactors(n)\n",
    "    primelist_2 = allfactors(n+1)\n",
    "    primelist_3 = allfactors(n+2)\n",
    "    primelist_4 = allfactors(n+3)\n",
    "    if len(primelist_1) == len(primelist_2) == len(primelist_3) == len(primelist_4) == 4:\n",
    "        for element in primelist_1: \n",
    "            if element not in (primelist_2 and primelist_3 and primelist_4):\n",
    "                for element in primelist_2:\n",
    "                    if element not in (primelist_3 and primelist_4):\n",
    "                        for element in primelist_3:\n",
    "                            if element not in primelist_4:    \n",
    "                                print(allfactors(n))\n",
    "                                print(allfactors(n+1))\n",
    "                                print(allfactors(n+2))\n",
    "                                print(allfactors(n+3))\n",
    "                                end = time.time()\n",
    "                                print(end-start)\n",
    "                                break\n",
    "\n",
    "    \n",
    "    "
   ]
  },
  {
   "cell_type": "code",
   "execution_count": null,
   "metadata": {},
   "outputs": [],
   "source": [
    "print(3*7*13*491)\n",
    "print(4*23*31*47)\n",
    "print(5*17*19*83)\n",
    "print(2*9*11*677)"
   ]
  },
  {
   "cell_type": "code",
   "execution_count": null,
   "metadata": {},
   "outputs": [],
   "source": []
  },
  {
   "cell_type": "code",
   "execution_count": null,
   "metadata": {},
   "outputs": [],
   "source": []
  }
 ],
 "metadata": {
  "kernelspec": {
   "display_name": "Python 3",
   "language": "python",
   "name": "python3"
  },
  "language_info": {
   "codemirror_mode": {
    "name": "ipython",
    "version": 3
   },
   "file_extension": ".py",
   "mimetype": "text/x-python",
   "name": "python",
   "nbconvert_exporter": "python",
   "pygments_lexer": "ipython3",
   "version": "3.7.4"
  }
 },
 "nbformat": 4,
 "nbformat_minor": 2
}
