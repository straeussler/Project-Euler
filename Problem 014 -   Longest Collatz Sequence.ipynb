{
 "cells": [
  {
   "cell_type": "code",
   "execution_count": null,
   "metadata": {},
   "outputs": [],
   "source": [
    "\n",
    "check=0\n",
    "print('the number')\n",
    "n=int(input())\n",
    "while check==0:\n",
    "    n=n/2\n",
    "    if n%2==0:\n",
    "        check=0\n",
    "        print(n)\n",
    "    elif n%2!=0:\n",
    "        n=n*3+1\n",
    "        print(n)\n",
    "        check=0\n",
    "    elif n==1:\n",
    "        check=1\n",
    "    "
   ]
  },
  {
   "cell_type": "code",
   "execution_count": null,
   "metadata": {},
   "outputs": [],
   "source": []
  },
  {
   "cell_type": "code",
   "execution_count": 3,
   "metadata": {},
   "outputs": [
    {
     "name": "stdout",
     "output_type": "stream",
     "text": [
      "999999\n",
      "525\n",
      "837799\n"
     ]
    }
   ],
   "source": [
    "BN=0\n",
    "t = 1\n",
    "check = 0\n",
    "c = 0\n",
    "n=int(input())\n",
    "count = 0\n",
    "while t <= n:\n",
    "    i = t \n",
    "    \n",
    "    while check == 0:\n",
    "        if i == 1:\n",
    "            c += 1\n",
    "            check = 1\n",
    "        elif i % 2 == 0:\n",
    "            i = i/2\n",
    "            c += 1\n",
    "        elif i%2!=0:\n",
    "            i = 3*i + 1\n",
    "            c += 1\n",
    "    if c > count:\n",
    "        count = c\n",
    "        BN = t\n",
    "    t += 1\n",
    "    c = 0\n",
    "    check = 0\n",
    "    \n",
    "print(count)\n",
    "print(BN)"
   ]
  },
  {
   "cell_type": "code",
   "execution_count": null,
   "metadata": {},
   "outputs": [],
   "source": []
  }
 ],
 "metadata": {
  "kernelspec": {
   "display_name": "Python 3",
   "language": "python",
   "name": "python3"
  },
  "language_info": {
   "codemirror_mode": {
    "name": "ipython",
    "version": 3
   },
   "file_extension": ".py",
   "mimetype": "text/x-python",
   "name": "python",
   "nbconvert_exporter": "python",
   "pygments_lexer": "ipython3",
   "version": "3.7.4"
  }
 },
 "nbformat": 4,
 "nbformat_minor": 2
}
