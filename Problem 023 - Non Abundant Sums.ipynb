{
 "cells": [
  {
   "cell_type": "code",
   "execution_count": 2,
   "metadata": {},
   "outputs": [],
   "source": [
    "####1.1.20###\n",
    "\n",
    "def d(n):\n",
    "    a = 1\n",
    "    for div in range(2,int(n**0.5)+1): \n",
    "        if n % div == 0 and div == n//div:\n",
    "            a += div\n",
    "        elif n % div == 0 and div != n//div:\n",
    "            a += (div + n//div) \n",
    "    return(a)"
   ]
  },
  {
   "cell_type": "code",
   "execution_count": 3,
   "metadata": {},
   "outputs": [],
   "source": [
    "abundant_nums = []\n",
    "for n in range(1,28124):\n",
    "    if d(n) > n:\n",
    "        abundant_nums.append(n)"
   ]
  },
  {
   "cell_type": "code",
   "execution_count": 15,
   "metadata": {},
   "outputs": [
    {
     "name": "stdout",
     "output_type": "stream",
     "text": [
      "4179871\n"
     ]
    }
   ],
   "source": [
    "non_abundant = list(range(28124))\n",
    "for i in range(len(abundant_nums)):\n",
    "    for j in range(i,28124):\n",
    "        if abundant_nums[i] + abundant_nums[j] < 28124:\n",
    "            non_abundant[abundant_nums[i] + abundant_nums[j]] = 0\n",
    "        else:\n",
    "            break\n",
    "print(sum(non_abundant))\n",
    "\n",
    "        \n",
    "        \n",
    "    "
   ]
  },
  {
   "cell_type": "code",
   "execution_count": null,
   "metadata": {},
   "outputs": [],
   "source": [
    "################################\n",
    "def divSum(n):\n",
    "    result = 0\n",
    "    for i in range(1,int((n**0.5)+1)):\n",
    "        if n % i == 0:\n",
    "            result += i\n",
    "    return(result)"
   ]
  },
  {
   "cell_type": "code",
   "execution_count": null,
   "metadata": {},
   "outputs": [],
   "source": [
    "abundant_nums = []\n",
    "for n in range(1,28124):\n",
    "    if divSum(n) > n:\n",
    "        abundant_nums.append(n)\n",
    "print(abundant_nums)"
   ]
  },
  {
   "cell_type": "code",
   "execution_count": null,
   "metadata": {
    "scrolled": false
   },
   "outputs": [],
   "source": [
    "non_abundant_nums = []\n",
    "for n in range(1,28123):\n",
    "    if divSum(n) < n:\n",
    "        non_abundant_nums.append(n)"
   ]
  },
  {
   "cell_type": "code",
   "execution_count": null,
   "metadata": {},
   "outputs": [],
   "source": [
    "for element in non_abundant_nums:\n",
    "    for num in abundant_nums:\n",
    "        if element % num == 0:\n",
    "            non_abundant_nums.remove(element)\n",
    "print(non_abundant_nums)"
   ]
  },
  {
   "cell_type": "code",
   "execution_count": null,
   "metadata": {},
   "outputs": [],
   "source": []
  },
  {
   "cell_type": "code",
   "execution_count": null,
   "metadata": {},
   "outputs": [],
   "source": []
  }
 ],
 "metadata": {
  "kernelspec": {
   "display_name": "Python 3",
   "language": "python",
   "name": "python3"
  },
  "language_info": {
   "codemirror_mode": {
    "name": "ipython",
    "version": 3
   },
   "file_extension": ".py",
   "mimetype": "text/x-python",
   "name": "python",
   "nbconvert_exporter": "python",
   "pygments_lexer": "ipython3",
   "version": "3.7.4"
  }
 },
 "nbformat": 4,
 "nbformat_minor": 2
}
