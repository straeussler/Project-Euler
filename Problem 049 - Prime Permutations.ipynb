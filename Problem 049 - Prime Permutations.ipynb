{
 "cells": [
  {
   "cell_type": "code",
   "execution_count": 5,
   "metadata": {},
   "outputs": [],
   "source": [
    "from sympy import isprime\n",
    "list = []\n",
    "for n in range(1000,10000):\n",
    "    if isprime(n):\n",
    "        list.append(n)"
   ]
  },
  {
   "cell_type": "code",
   "execution_count": 6,
   "metadata": {},
   "outputs": [
    {
     "name": "stdout",
     "output_type": "stream",
     "text": [
      "296962999629 3330 3330\n",
      "148748178147 3330 3330\n"
     ]
    }
   ],
   "source": [
    "k = 0\n",
    "while -1-k >= -len(list)+2:\n",
    "    j = k\n",
    "    while -2-j >= -len(list)+1:\n",
    "        i = j\n",
    "        while -3-i >= -len(list):\n",
    "            const1 = list[-1-k] - list[-2-j]\n",
    "            const2 = list[-2-j] - list[-3-i]\n",
    "            if const1 == const2:\n",
    "                if sorted(str(list[-3-i])) == sorted(str(list[-2-j])) == sorted(str(list[-1-k])):\n",
    "                    print(str(list[-3-i])+str(list[-2-j])+str(list[-1-k]),const1,const2)\n",
    "                    break\n",
    "            i += 1\n",
    "        j += 1\n",
    "    k += 1"
   ]
  },
  {
   "cell_type": "code",
   "execution_count": null,
   "metadata": {},
   "outputs": [],
   "source": []
  }
 ],
 "metadata": {
  "kernelspec": {
   "display_name": "Python 3",
   "language": "python",
   "name": "python3"
  },
  "language_info": {
   "codemirror_mode": {
    "name": "ipython",
    "version": 3
   },
   "file_extension": ".py",
   "mimetype": "text/x-python",
   "name": "python",
   "nbconvert_exporter": "python",
   "pygments_lexer": "ipython3",
   "version": "3.7.4"
  }
 },
 "nbformat": 4,
 "nbformat_minor": 2
}
