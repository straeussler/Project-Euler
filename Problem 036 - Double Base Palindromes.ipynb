{
 "cells": [
  {
   "cell_type": "code",
   "execution_count": null,
   "metadata": {},
   "outputs": [],
   "source": [
    "def DecToBin(n):\n",
    "    a = ''\n",
    "    while n >= 1:\n",
    "        a = a + str(n % 2)\n",
    "        n = n // 2\n",
    "    return a[::-1]"
   ]
  },
  {
   "cell_type": "code",
   "execution_count": null,
   "metadata": {},
   "outputs": [],
   "source": [
    "dec_pal = []\n",
    "for i in range(1,1000000):\n",
    "    i = str(i)\n",
    "    if i == i[::-1]:\n",
    "        dec_pal.append(int(i))\n",
    "print(dec_pal)"
   ]
  },
  {
   "cell_type": "code",
   "execution_count": null,
   "metadata": {},
   "outputs": [],
   "source": [
    "bin_pal = []\n",
    "for pal in dec_pal:\n",
    "    a = DecToBin(pal)\n",
    "    if a == a[::-1]:\n",
    "        bin_pal.append(pal)\n",
    "print(sum(bin_pal))\n",
    "    "
   ]
  },
  {
   "cell_type": "code",
   "execution_count": null,
   "metadata": {},
   "outputs": [],
   "source": []
  },
  {
   "cell_type": "code",
   "execution_count": null,
   "metadata": {},
   "outputs": [],
   "source": []
  }
 ],
 "metadata": {
  "kernelspec": {
   "display_name": "Python 3",
   "language": "python",
   "name": "python3"
  },
  "language_info": {
   "codemirror_mode": {
    "name": "ipython",
    "version": 3
   },
   "file_extension": ".py",
   "mimetype": "text/x-python",
   "name": "python",
   "nbconvert_exporter": "python",
   "pygments_lexer": "ipython3",
   "version": "3.7.4"
  }
 },
 "nbformat": 4,
 "nbformat_minor": 2
}
