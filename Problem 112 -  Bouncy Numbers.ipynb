{
 "cells": [
  {
   "cell_type": "code",
   "execution_count": null,
   "metadata": {},
   "outputs": [],
   "source": [
    "def is_decreasing(n):\n",
    "    for i in range(0,len(str(n))-1):\n",
    "        if str(n)[i] >= str(n)[i+1]:\n",
    "            flag = True\n",
    "        else:\n",
    "            flag = False\n",
    "            break\n",
    "    return(flag)\n",
    "\n",
    "def is_increasing(n):\n",
    "    for i in range(0,len(str(n))-1):\n",
    "        if str(n)[i] <= str(n)[i+1]:\n",
    "            flag = True\n",
    "        else:\n",
    "            flag = False\n",
    "            break\n",
    "    return(flag)\n",
    "            "
   ]
  },
  {
   "cell_type": "code",
   "execution_count": null,
   "metadata": {
    "scrolled": true
   },
   "outputs": [],
   "source": [
    "ratio = 0.99\n",
    "bouncy = 0 \n",
    "n = 100\n",
    "while bouncy/n < ratio:\n",
    "    if is_decreasing(n) == False and is_increasing(n) == False:\n",
    "        bouncy += 1\n",
    "    if bouncy/n == ratio:\n",
    "        print(n,ratio)\n",
    "        break\n",
    "    n += 1"
   ]
  },
  {
   "cell_type": "code",
   "execution_count": null,
   "metadata": {},
   "outputs": [],
   "source": [
    "#Problem 113\n",
    "\n",
    "non_bouncy = 0\n",
    "for n in range(10**10,10**11):\n",
    "    if is_decreasing(n) == True or is_increasing(n) == True:\n",
    "        non_bouncy += 1\n",
    "print(non_bouncy + 277032)\n",
    "    "
   ]
  },
  {
   "cell_type": "code",
   "execution_count": null,
   "metadata": {},
   "outputs": [],
   "source": []
  }
 ],
 "metadata": {
  "kernelspec": {
   "display_name": "Python 3",
   "language": "python",
   "name": "python3"
  },
  "language_info": {
   "codemirror_mode": {
    "name": "ipython",
    "version": 3
   },
   "file_extension": ".py",
   "mimetype": "text/x-python",
   "name": "python",
   "nbconvert_exporter": "python",
   "pygments_lexer": "ipython3",
   "version": "3.7.4"
  }
 },
 "nbformat": 4,
 "nbformat_minor": 2
}
